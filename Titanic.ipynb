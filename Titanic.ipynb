{
 "cells": [
  {
   "cell_type": "code",
   "execution_count": 2,
   "metadata": {},
   "outputs": [
    {
     "data": {
      "text/html": [
       "<div>\n",
       "<style scoped>\n",
       "    .dataframe tbody tr th:only-of-type {\n",
       "        vertical-align: middle;\n",
       "    }\n",
       "\n",
       "    .dataframe tbody tr th {\n",
       "        vertical-align: top;\n",
       "    }\n",
       "\n",
       "    .dataframe thead th {\n",
       "        text-align: right;\n",
       "    }\n",
       "</style>\n",
       "<table border=\"1\" class=\"dataframe\">\n",
       "  <thead>\n",
       "    <tr style=\"text-align: right;\">\n",
       "      <th></th>\n",
       "      <th>PassengerId</th>\n",
       "      <th>Survived</th>\n",
       "      <th>Pclass</th>\n",
       "      <th>Name</th>\n",
       "      <th>Sex</th>\n",
       "      <th>Age</th>\n",
       "      <th>SibSp</th>\n",
       "      <th>Parch</th>\n",
       "      <th>Ticket</th>\n",
       "      <th>Fare</th>\n",
       "      <th>Cabin</th>\n",
       "      <th>Embarked</th>\n",
       "    </tr>\n",
       "  </thead>\n",
       "  <tbody>\n",
       "    <tr>\n",
       "      <th>0</th>\n",
       "      <td>1</td>\n",
       "      <td>0</td>\n",
       "      <td>3</td>\n",
       "      <td>Braund, Mr. Owen Harris</td>\n",
       "      <td>male</td>\n",
       "      <td>22.0</td>\n",
       "      <td>1</td>\n",
       "      <td>0</td>\n",
       "      <td>A/5 21171</td>\n",
       "      <td>7.2500</td>\n",
       "      <td>NaN</td>\n",
       "      <td>S</td>\n",
       "    </tr>\n",
       "    <tr>\n",
       "      <th>1</th>\n",
       "      <td>2</td>\n",
       "      <td>1</td>\n",
       "      <td>1</td>\n",
       "      <td>Cumings, Mrs. John Bradley (Florence Briggs Th...</td>\n",
       "      <td>female</td>\n",
       "      <td>38.0</td>\n",
       "      <td>1</td>\n",
       "      <td>0</td>\n",
       "      <td>PC 17599</td>\n",
       "      <td>71.2833</td>\n",
       "      <td>C85</td>\n",
       "      <td>C</td>\n",
       "    </tr>\n",
       "    <tr>\n",
       "      <th>2</th>\n",
       "      <td>3</td>\n",
       "      <td>1</td>\n",
       "      <td>3</td>\n",
       "      <td>Heikkinen, Miss. Laina</td>\n",
       "      <td>female</td>\n",
       "      <td>26.0</td>\n",
       "      <td>0</td>\n",
       "      <td>0</td>\n",
       "      <td>STON/O2. 3101282</td>\n",
       "      <td>7.9250</td>\n",
       "      <td>NaN</td>\n",
       "      <td>S</td>\n",
       "    </tr>\n",
       "    <tr>\n",
       "      <th>3</th>\n",
       "      <td>4</td>\n",
       "      <td>1</td>\n",
       "      <td>1</td>\n",
       "      <td>Futrelle, Mrs. Jacques Heath (Lily May Peel)</td>\n",
       "      <td>female</td>\n",
       "      <td>35.0</td>\n",
       "      <td>1</td>\n",
       "      <td>0</td>\n",
       "      <td>113803</td>\n",
       "      <td>53.1000</td>\n",
       "      <td>C123</td>\n",
       "      <td>S</td>\n",
       "    </tr>\n",
       "    <tr>\n",
       "      <th>4</th>\n",
       "      <td>5</td>\n",
       "      <td>0</td>\n",
       "      <td>3</td>\n",
       "      <td>Allen, Mr. William Henry</td>\n",
       "      <td>male</td>\n",
       "      <td>35.0</td>\n",
       "      <td>0</td>\n",
       "      <td>0</td>\n",
       "      <td>373450</td>\n",
       "      <td>8.0500</td>\n",
       "      <td>NaN</td>\n",
       "      <td>S</td>\n",
       "    </tr>\n",
       "  </tbody>\n",
       "</table>\n",
       "</div>"
      ],
      "text/plain": [
       "   PassengerId  Survived  Pclass  \\\n",
       "0            1         0       3   \n",
       "1            2         1       1   \n",
       "2            3         1       3   \n",
       "3            4         1       1   \n",
       "4            5         0       3   \n",
       "\n",
       "                                                Name     Sex   Age  SibSp  \\\n",
       "0                            Braund, Mr. Owen Harris    male  22.0      1   \n",
       "1  Cumings, Mrs. John Bradley (Florence Briggs Th...  female  38.0      1   \n",
       "2                             Heikkinen, Miss. Laina  female  26.0      0   \n",
       "3       Futrelle, Mrs. Jacques Heath (Lily May Peel)  female  35.0      1   \n",
       "4                           Allen, Mr. William Henry    male  35.0      0   \n",
       "\n",
       "   Parch            Ticket     Fare Cabin Embarked  \n",
       "0      0         A/5 21171   7.2500   NaN        S  \n",
       "1      0          PC 17599  71.2833   C85        C  \n",
       "2      0  STON/O2. 3101282   7.9250   NaN        S  \n",
       "3      0            113803  53.1000  C123        S  \n",
       "4      0            373450   8.0500   NaN        S  "
      ]
     },
     "execution_count": 2,
     "metadata": {},
     "output_type": "execute_result"
    }
   ],
   "source": [
    "import numpy as np\n",
    "import pandas as pd\n",
    "titanic_survival = pd.read_csv(\"titanic_train.csv\")\n",
    "titanic_survival.head()"
   ]
  },
  {
   "cell_type": "code",
   "execution_count": 3,
   "metadata": {},
   "outputs": [
    {
     "name": "stdout",
     "output_type": "stream",
     "text": [
      "0     22.0\n",
      "1     38.0\n",
      "2     26.0\n",
      "3     35.0\n",
      "4     35.0\n",
      "5      NaN\n",
      "6     54.0\n",
      "7      2.0\n",
      "8     27.0\n",
      "9     14.0\n",
      "10     4.0\n",
      "Name: Age, dtype: float64\n",
      "0    22.0\n",
      "1    38.0\n",
      "2    26.0\n",
      "Name: Age, dtype: float64\n"
     ]
    }
   ],
   "source": [
    "age = titanic_survival[\"Age\"]\n",
    "print(age.loc[0:10])"
   ]
  },
  {
   "cell_type": "code",
   "execution_count": 4,
   "metadata": {},
   "outputs": [
    {
     "name": "stdout",
     "output_type": "stream",
     "text": [
      "0      False\n",
      "1      False\n",
      "2      False\n",
      "3      False\n",
      "4      False\n",
      "5       True\n",
      "6      False\n",
      "7      False\n",
      "8      False\n",
      "9      False\n",
      "10     False\n",
      "11     False\n",
      "12     False\n",
      "13     False\n",
      "14     False\n",
      "15     False\n",
      "16     False\n",
      "17      True\n",
      "18     False\n",
      "19      True\n",
      "20     False\n",
      "21     False\n",
      "22     False\n",
      "23     False\n",
      "24     False\n",
      "25     False\n",
      "26      True\n",
      "27     False\n",
      "28      True\n",
      "29      True\n",
      "       ...  \n",
      "861    False\n",
      "862    False\n",
      "863     True\n",
      "864    False\n",
      "865    False\n",
      "866    False\n",
      "867    False\n",
      "868     True\n",
      "869    False\n",
      "870    False\n",
      "871    False\n",
      "872    False\n",
      "873    False\n",
      "874    False\n",
      "875    False\n",
      "876    False\n",
      "877    False\n",
      "878     True\n",
      "879    False\n",
      "880    False\n",
      "881    False\n",
      "882    False\n",
      "883    False\n",
      "884    False\n",
      "885    False\n",
      "886    False\n",
      "887    False\n",
      "888     True\n",
      "889    False\n",
      "890    False\n",
      "Name: Age, Length: 891, dtype: bool\n"
     ]
    }
   ],
   "source": [
    "age_is_null = pd.isnull(age)\n",
    "print(age_is_null)"
   ]
  },
  {
   "cell_type": "code",
   "execution_count": 5,
   "metadata": {},
   "outputs": [
    {
     "name": "stdout",
     "output_type": "stream",
     "text": [
      "5     NaN\n",
      "17    NaN\n",
      "19    NaN\n",
      "26    NaN\n",
      "28    NaN\n",
      "29    NaN\n",
      "31    NaN\n",
      "32    NaN\n",
      "36    NaN\n",
      "42    NaN\n",
      "45    NaN\n",
      "46    NaN\n",
      "47    NaN\n",
      "48    NaN\n",
      "55    NaN\n",
      "64    NaN\n",
      "65    NaN\n",
      "76    NaN\n",
      "77    NaN\n",
      "82    NaN\n",
      "87    NaN\n",
      "95    NaN\n",
      "101   NaN\n",
      "107   NaN\n",
      "109   NaN\n",
      "121   NaN\n",
      "126   NaN\n",
      "128   NaN\n",
      "140   NaN\n",
      "154   NaN\n",
      "       ..\n",
      "718   NaN\n",
      "727   NaN\n",
      "732   NaN\n",
      "738   NaN\n",
      "739   NaN\n",
      "740   NaN\n",
      "760   NaN\n",
      "766   NaN\n",
      "768   NaN\n",
      "773   NaN\n",
      "776   NaN\n",
      "778   NaN\n",
      "783   NaN\n",
      "790   NaN\n",
      "792   NaN\n",
      "793   NaN\n",
      "815   NaN\n",
      "825   NaN\n",
      "826   NaN\n",
      "828   NaN\n",
      "832   NaN\n",
      "837   NaN\n",
      "839   NaN\n",
      "846   NaN\n",
      "849   NaN\n",
      "859   NaN\n",
      "863   NaN\n",
      "868   NaN\n",
      "878   NaN\n",
      "888   NaN\n",
      "Name: Age, Length: 177, dtype: float64\n"
     ]
    }
   ],
   "source": [
    "age_null_true = age[age_is_null]\n",
    "print(age_null_true)"
   ]
  },
  {
   "cell_type": "code",
   "execution_count": 6,
   "metadata": {},
   "outputs": [
    {
     "name": "stdout",
     "output_type": "stream",
     "text": [
      "177\n"
     ]
    }
   ],
   "source": [
    "age_null_count = len(age_null_true)\n",
    "print(age_null_count)"
   ]
  },
  {
   "cell_type": "code",
   "execution_count": 7,
   "metadata": {},
   "outputs": [
    {
     "name": "stdout",
     "output_type": "stream",
     "text": [
      "nan\n"
     ]
    }
   ],
   "source": [
    "#如果有缺失值想算平均值是算不出来的，会显示nan，比如：\n",
    "mean_age = sum(age)/len(age)\n",
    "print(mean_age)"
   ]
  },
  {
   "cell_type": "code",
   "execution_count": 8,
   "metadata": {},
   "outputs": [
    {
     "name": "stdout",
     "output_type": "stream",
     "text": [
      "29.69911764705882\n"
     ]
    }
   ],
   "source": [
    "#有缺失值时计算方法1：\n",
    "good_ages = age[age_is_null == False]\n",
    "#print(good_ages)\n",
    "correct_mean_age = sum(good_ages)/len(good_ages)\n",
    "print(correct_mean_age)"
   ]
  },
  {
   "cell_type": "code",
   "execution_count": 9,
   "metadata": {},
   "outputs": [
    {
     "name": "stdout",
     "output_type": "stream",
     "text": [
      "29.69911764705882\n"
     ]
    }
   ],
   "source": [
    "#有缺失值时计算方法2：\n",
    "correct_mean_age = age.mean()\n",
    "print(correct_mean_age)"
   ]
  },
  {
   "cell_type": "code",
   "execution_count": 10,
   "metadata": {},
   "outputs": [
    {
     "name": "stdout",
     "output_type": "stream",
     "text": [
      "84.15468749999992\n",
      "20.66218315217391\n",
      "13.675550101832997\n"
     ]
    }
   ],
   "source": [
    "#每个舱位等级的平均价格是多少：\n",
    "Pclass = titanic_survival[\"Pclass\"]\n",
    "fare = titanic_survival[\"Fare\"]\n",
    "#print(Pclass)\n",
    "fare1 = fare[Pclass == 1]\n",
    "fare2 = fare[Pclass == 2]\n",
    "fare3 = fare[Pclass == 3]\n",
    "\n",
    "print(fare1.mean())\n",
    "print(fare2.mean())\n",
    "print(fare3.mean())"
   ]
  },
  {
   "cell_type": "code",
   "execution_count": 11,
   "metadata": {},
   "outputs": [
    {
     "name": "stdout",
     "output_type": "stream",
     "text": [
      "{1: 84.15468749999992, 2: 20.66218315217391, 3: 13.675550101832997}\n"
     ]
    }
   ],
   "source": [
    "#每个舱位等级的平均价格是多少：\n",
    "passenger_classes = [1, 2, 3]\n",
    "fares_by_class = {}\n",
    "for this_class in passenger_classes:\n",
    "    pclass_rows = titanic_survival[titanic_survival[\"Pclass\"] == this_class]\n",
    "    pclass_fares = pclass_rows[\"Fare\"]\n",
    "    fare_for_class = pclass_fares.mean()\n",
    "    fares_by_class[this_class] = fare_for_class\n",
    "print(fares_by_class)"
   ]
  },
  {
   "cell_type": "code",
   "execution_count": 12,
   "metadata": {},
   "outputs": [
    {
     "name": "stdout",
     "output_type": "stream",
     "text": [
      "        Survived\n",
      "Pclass          \n",
      "1       0.629630\n",
      "2       0.472826\n",
      "3       0.242363\n"
     ]
    }
   ],
   "source": [
    "#用pivot_table函数计算每个舱位的获救概率：\n",
    "passenger_survival = titanic_survival.pivot_table(index = \"Pclass\", values= \"Survived\", aggfunc= np.mean)\n",
    "#index指统计基准，values指基准量和谁之间的关系，aggfunc指两个量的什么关系\n",
    "print(passenger_survival)"
   ]
  },
  {
   "cell_type": "code",
   "execution_count": 13,
   "metadata": {},
   "outputs": [
    {
     "name": "stdout",
     "output_type": "stream",
     "text": [
      "              Age\n",
      "Pclass           \n",
      "1       38.233441\n",
      "2       29.877630\n",
      "3       25.140620\n"
     ]
    }
   ],
   "source": [
    "#算每个舱位的平均年龄：\n",
    "passenger_age = titanic_survival.pivot_table(index= \"Pclass\", values= \"Age\")#不指定aggfunc的时候默认是按照求均值计算\n",
    "print(passenger_age)"
   ]
  },
  {
   "cell_type": "code",
   "execution_count": 14,
   "metadata": {},
   "outputs": [
    {
     "name": "stdout",
     "output_type": "stream",
     "text": [
      "                Fare  Survived\n",
      "Embarked                      \n",
      "C         10072.2962        93\n",
      "Q          1022.2543        30\n",
      "S         17439.3988       217\n"
     ]
    }
   ],
   "source": [
    "#计算每个码头的总价格和获救人数：\n",
    "port_stats = titanic_survival.pivot_table(index = \"Embarked\", values=[\"Fare\", \"Survived\"], aggfunc= np.sum)\n",
    "print(port_stats)"
   ]
  },
  {
   "cell_type": "code",
   "execution_count": 15,
   "metadata": {},
   "outputs": [],
   "source": [
    "#把缺失值的那一行丢掉：\n",
    "drop_na_columns = titanic_survival.dropna(axis = 1)\n",
    "new_titanic_survival = titanic_survival.dropna(axis = 0,subset =[\"Age\", \"Sex\"])\n",
    "#print(new_titanic_survival)"
   ]
  },
  {
   "cell_type": "code",
   "execution_count": 16,
   "metadata": {},
   "outputs": [
    {
     "name": "stdout",
     "output_type": "stream",
     "text": [
      "28.0\n",
      "1\n"
     ]
    }
   ],
   "source": [
    "#定位到一个具体值：\n",
    "row_index_83_age = titanic_survival.loc[83,\"Age\"]\n",
    "row_index_1000_pclass = titanic_survival.loc[83,\"Pclass\"]\n",
    "print(row_index_83_age)\n",
    "print(row_index_1000_pclass)"
   ]
  },
  {
   "cell_type": "code",
   "execution_count": 17,
   "metadata": {},
   "outputs": [
    {
     "name": "stdout",
     "output_type": "stream",
     "text": [
      "     PassengerId  Survived  Pclass                                  Name  \\\n",
      "630          631         1       1  Barkworth, Mr. Algernon Henry Wilson   \n",
      "851          852         0       3                   Svensson, Mr. Johan   \n",
      "493          494         0       1               Artagaveytia, Mr. Ramon   \n",
      "96            97         0       1             Goldschmidt, Mr. George B   \n",
      "116          117         0       3                  Connors, Mr. Patrick   \n",
      "672          673         0       2           Mitchell, Mr. Henry Michael   \n",
      "745          746         0       1          Crosby, Capt. Edward Gifford   \n",
      "33            34         0       2                 Wheadon, Mr. Edward H   \n",
      "54            55         0       1        Ostby, Mr. Engelhart Cornelius   \n",
      "280          281         0       3                      Duane, Mr. Frank   \n",
      "\n",
      "      Sex   Age  SibSp  Parch      Ticket     Fare Cabin Embarked  \n",
      "630  male  80.0      0      0       27042  30.0000   A23        S  \n",
      "851  male  74.0      0      0      347060   7.7750   NaN        S  \n",
      "493  male  71.0      0      0    PC 17609  49.5042   NaN        C  \n",
      "96   male  71.0      0      0    PC 17754  34.6542    A5        C  \n",
      "116  male  70.5      0      0      370369   7.7500   NaN        Q  \n",
      "672  male  70.0      0      0  C.A. 24580  10.5000   NaN        S  \n",
      "745  male  70.0      1      1   WE/P 5735  71.0000   B22        S  \n",
      "33   male  66.0      0      0  C.A. 24579  10.5000   NaN        S  \n",
      "54   male  65.0      0      1      113509  61.9792   B30        C  \n",
      "280  male  65.0      0      0      336439   7.7500   NaN        Q  \n",
      "------------\n",
      "   PassengerId  Survived  Pclass                                  Name   Sex  \\\n",
      "0          631         1       1  Barkworth, Mr. Algernon Henry Wilson  male   \n",
      "1          852         0       3                   Svensson, Mr. Johan  male   \n",
      "2          494         0       1               Artagaveytia, Mr. Ramon  male   \n",
      "3           97         0       1             Goldschmidt, Mr. George B  male   \n",
      "4          117         0       3                  Connors, Mr. Patrick  male   \n",
      "5          673         0       2           Mitchell, Mr. Henry Michael  male   \n",
      "6          746         0       1          Crosby, Capt. Edward Gifford  male   \n",
      "7           34         0       2                 Wheadon, Mr. Edward H  male   \n",
      "8           55         0       1        Ostby, Mr. Engelhart Cornelius  male   \n",
      "9          281         0       3                      Duane, Mr. Frank  male   \n",
      "\n",
      "    Age  SibSp  Parch      Ticket     Fare Cabin Embarked  \n",
      "0  80.0      0      0       27042  30.0000   A23        S  \n",
      "1  74.0      0      0      347060   7.7750   NaN        S  \n",
      "2  71.0      0      0    PC 17609  49.5042   NaN        C  \n",
      "3  71.0      0      0    PC 17754  34.6542    A5        C  \n",
      "4  70.5      0      0      370369   7.7500   NaN        Q  \n",
      "5  70.0      0      0  C.A. 24580  10.5000   NaN        S  \n",
      "6  70.0      1      1   WE/P 5735  71.0000   B22        S  \n",
      "7  66.0      0      0  C.A. 24579  10.5000   NaN        S  \n",
      "8  65.0      0      1      113509  61.9792   B30        C  \n",
      "9  65.0      0      0      336439   7.7500   NaN        Q  \n"
     ]
    }
   ],
   "source": [
    "new_titanic_survival = titanic_survival.sort_values(\"Age\", ascending = False)\n",
    "print(new_titanic_survival[0:10])\n",
    "titanic_reindexed = new_titanic_survival.reset_index(drop = True)#重新排序\n",
    "print(\"------------\")\n",
    "print(titanic_reindexed[0:10])\n"
   ]
  },
  {
   "cell_type": "code",
   "execution_count": 18,
   "metadata": {},
   "outputs": [
    {
     "name": "stdout",
     "output_type": "stream",
     "text": [
      "PassengerId                  100\n",
      "Survived                       0\n",
      "Pclass                         2\n",
      "Name           Kantor, Mr. Sinai\n",
      "Sex                         male\n",
      "Age                           34\n",
      "SibSp                          1\n",
      "Parch                          0\n",
      "Ticket                    244367\n",
      "Fare                          26\n",
      "Cabin                        NaN\n",
      "Embarked                       S\n",
      "dtype: object\n"
     ]
    }
   ],
   "source": [
    "#定义函数再应用\n",
    "def hundredth_row(column):\n",
    "    hundredth_item = column.loc[99]\n",
    "    return hundredth_item\n",
    "\n",
    "hundredth_row = titanic_survival.apply(hundredth_row)#用apply应用函数，相当于把titanic_survival放到了column的位置\n",
    "print(hundredth_row)"
   ]
  },
  {
   "cell_type": "code",
   "execution_count": 19,
   "metadata": {},
   "outputs": [
    {
     "name": "stdout",
     "output_type": "stream",
     "text": [
      "PassengerId      0\n",
      "Survived         0\n",
      "Pclass           0\n",
      "Name             0\n",
      "Sex              0\n",
      "Age            177\n",
      "SibSp            0\n",
      "Parch            0\n",
      "Ticket           0\n",
      "Fare             0\n",
      "Cabin          687\n",
      "Embarked         2\n",
      "dtype: int64\n"
     ]
    }
   ],
   "source": [
    "#看每一列缺失值的个数是多少，也是用定义函数的方法：\n",
    "def not_null_count(column):\n",
    "    column_null = pd.isnull(column)\n",
    "    null = column[column_null]\n",
    "    return len(null)\n",
    "column_null_count = titanic_survival.apply(not_null_count)\n",
    "print(column_null_count)"
   ]
  },
  {
   "cell_type": "code",
   "execution_count": 20,
   "metadata": {},
   "outputs": [
    {
     "name": "stdout",
     "output_type": "stream",
     "text": [
      "0       adult\n",
      "1       adult\n",
      "2       adult\n",
      "3       adult\n",
      "4       adult\n",
      "5      unkown\n",
      "6       adult\n",
      "7       minor\n",
      "8       adult\n",
      "9       minor\n",
      "10      minor\n",
      "11      adult\n",
      "12      adult\n",
      "13      adult\n",
      "14      minor\n",
      "15      adult\n",
      "16      minor\n",
      "17     unkown\n",
      "18      adult\n",
      "19     unkown\n",
      "20      adult\n",
      "21      adult\n",
      "22      minor\n",
      "23      adult\n",
      "24      minor\n",
      "25      adult\n",
      "26     unkown\n",
      "27      adult\n",
      "28     unkown\n",
      "29     unkown\n",
      "        ...  \n",
      "861     adult\n",
      "862     adult\n",
      "863    unkown\n",
      "864     adult\n",
      "865     adult\n",
      "866     adult\n",
      "867     adult\n",
      "868    unkown\n",
      "869     minor\n",
      "870     adult\n",
      "871     adult\n",
      "872     adult\n",
      "873     adult\n",
      "874     adult\n",
      "875     minor\n",
      "876     adult\n",
      "877     adult\n",
      "878    unkown\n",
      "879     adult\n",
      "880     adult\n",
      "881     adult\n",
      "882     adult\n",
      "883     adult\n",
      "884     adult\n",
      "885     adult\n",
      "886     adult\n",
      "887     adult\n",
      "888    unkown\n",
      "889     adult\n",
      "890     adult\n",
      "Length: 891, dtype: object\n"
     ]
    }
   ],
   "source": [
    "def generate_age_label(row):\n",
    "    age = row[\"Age\"]\n",
    "    if pd.isnull(age):\n",
    "        return \"unkown\"\n",
    "    elif age< 18:\n",
    "        return \"minor\"\n",
    "    else:\n",
    "        return \"adult\"\n",
    "\n",
    "age_labels = titanic_survival.apply(generate_age_label, axis =1)#相当于把titanic_survival带到了row的位置\n",
    "print(age_labels)    "
   ]
  },
  {
   "cell_type": "code",
   "execution_count": 21,
   "metadata": {},
   "outputs": [
    {
     "name": "stdout",
     "output_type": "stream",
     "text": [
      "            Survived\n",
      "Age_labels          \n",
      "adult       0.381032\n",
      "minor       0.539823\n",
      "unkown      0.293785\n"
     ]
    }
   ],
   "source": [
    "#看成年人和未成年人分别的获救几率\n",
    "titanic_survival[\"Age_labels\"] = age_labels #先将age_labels以一列添加到原来文件中\n",
    "age_group_survival = titanic_survival.pivot_table(index = \"Age_labels\", values= \"Survived\")\n",
    "print(age_group_survival)"
   ]
  },
  {
   "cell_type": "code",
   "execution_count": null,
   "metadata": {},
   "outputs": [],
   "source": []
  }
 ],
 "metadata": {
  "kernelspec": {
   "display_name": "Python 3",
   "language": "python",
   "name": "python3"
  },
  "language_info": {
   "codemirror_mode": {
    "name": "ipython",
    "version": 3
   },
   "file_extension": ".py",
   "mimetype": "text/x-python",
   "name": "python",
   "nbconvert_exporter": "python",
   "pygments_lexer": "ipython3",
   "version": "3.6.5"
  }
 },
 "nbformat": 4,
 "nbformat_minor": 2
}
